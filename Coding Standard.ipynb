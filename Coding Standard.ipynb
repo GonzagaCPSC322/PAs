{
 "cells": [
  {
   "cell_type": "markdown",
   "metadata": {},
   "source": [
    "Note: due to a recent Github issue rendering Jupyter Notebooks, images in Notebooks are not appearing. Until it is fixed, I recommend viewing this Notebook with nbviewer: https://nbviewer.org/github/GonzagaCPSC322/PAs/blob/master/Coding%20Standard.ipynb?flush_cache=true\n",
    "\n",
    "# [CPSC 322](https://github.com/GonzagaCPSC322) Data Science Algorithms\n",
    "[Gonzaga University](https://www.gonzaga.edu/)\n",
    "\n",
    "[Gina Sprint](http://cs.gonzaga.edu/faculty/sprint/)\n",
    "\n",
    "# Coding Standard\n",
    "This document outlines the expectations of code organization and style for CPSC 322. Python code written in this course should adhere to the following guidelines, which are based on the [PEP 8 Style Guide for Python Code](https://legacy.python.org/dev/peps/pep-0008/) and [Google Style Python Docstrings](https://sphinxcontrib-napoleon.readthedocs.io/en/latest/example_google.html).\n",
    "\n",
    "## File Names\n",
    "Source files (.py and .ipynb files) should have a name that describes your program. For example, a Python program to compute the area of various shapes could be called `area.py` instead of a non-informative name, such as `program.py`. For labs, it is recommended you name your python files for each task, e.g. `lab1task1.py`. For data assignments, the assignment specification will state what to name your source file.\n",
    "\n",
    "Input/output files (e.g. .txt files, .csv files, etc.) should have a name that describes the content of the file.\n",
    "\n",
    "## Programmer-Defined Identifiers\n",
    "Variables, functions, and classes should be named informatively. For example, do not name a variable, `variable`. The name should describe the value of the variable (i.e. `radius` for storing the radius of a circle), computation performed by the function (i.e. `compute_circumference()` to compute the circumference of a circle), or the semantics of the class (i.e. `Circle` to represent information and functionality related to circles). Thoughtful identifier names improves the readability of your code to yourself and others. \n",
    "\n",
    "## Comments\n",
    "Liberally comment your code! It helps you and others who may read your code. Also, should you use an algorithm, idea, or any other content that is not your own, use comments in your code to properly **cite your sources**.\n",
    "\n",
    "### Inline Comments\n",
    "To describe the purpose of a line of code, it is beneficial to place comments throughout your code, not just when defining functions and objects.\n",
    "\n",
    "### Source File Comments\n",
    "Begin programs with a header section that indicates\n",
    "* Programmer's name\n",
    "* The course (\"CPSC 322\") \n",
    "* Assignment number (e.g., \"Programming Assignment #1\")\n",
    "* Date of current version\n",
    "* **Did you attempt the bonus?**\n",
    "* Brief description of what program does\n",
    "\n",
    "For example:"
   ]
  },
  {
   "cell_type": "code",
   "execution_count": null,
   "metadata": {},
   "outputs": [],
   "source": [
    "##############################################\n",
    "# Programmer: Gina Sprint\n",
    "# Class: CptS 322-01, Spring 2021\n",
    "# Programming Assignment #1\n",
    "# 1/1/20\n",
    "# I attempted the bonus...\n",
    "# \n",
    "# Description: This program computes...\n",
    "##############################################\n",
    "\n",
    "\"\"\"\n",
    "Programmer: Gina Sprint\n",
    "Class: CptS 322-01, Spring 2021\n",
    "Programming Assignment #1\n",
    "1/1/21\n",
    "I attempted the bonus...\n",
    "\n",
    "Description: This program computes...\n",
    "\"\"\""
   ]
  },
  {
   "cell_type": "markdown",
   "metadata": {},
   "source": [
    "### Function/Method Comments\n",
    "Every function (and method) should contain a docstring, a comment placed immediately under the function header. Docstrings appear when you use the `help()` function with a function. The docstring should describe the function, function parameters, and the result if the function returns a value. \n",
    " \n",
    "For example:"
   ]
  },
  {
   "cell_type": "code",
   "execution_count": 1,
   "metadata": {},
   "outputs": [
    {
     "name": "stdout",
     "output_type": "stream",
     "text": [
      "Help on function compute_area_circle in module __main__:\n",
      "\n",
      "compute_area_circle(radius)\n",
      "    Computes the area of a circle by multiplying PI by the square of the circle's radius\n",
      "    \n",
      "    Args:\n",
      "        radius (double): radius of the circle whose area this function computes\n",
      "    \n",
      "    Returns: \n",
      "        double: The area of a circle\n",
      "\n",
      "12.56\n"
     ]
    }
   ],
   "source": [
    "def compute_area_circle(radius):\n",
    "    \"\"\"Computes the area of a circle by multiplying PI by the square of the circle's radius\n",
    "    \n",
    "    Args:\n",
    "        radius (double): radius of the circle whose area this function computes\n",
    "    \n",
    "    Returns: \n",
    "        double: The area of a circle\n",
    "    \"\"\"\n",
    "    area = 3.14 * radius ** 2\n",
    "    return area\n",
    "\n",
    "help(compute_area_circle)\n",
    "print(compute_area_circle(2.0))"
   ]
  },
  {
   "cell_type": "markdown",
   "metadata": {},
   "source": [
    "### Class Comments\n",
    "Every class should contain a docstring, a comment placed immediately under the class header. Docstrings appear when you use the `help()` function with a class or object. The docstring should describe the class and what it represents. \n",
    " \n",
    "For example:"
   ]
  },
  {
   "cell_type": "code",
   "execution_count": 2,
   "metadata": {},
   "outputs": [
    {
     "name": "stdout",
     "output_type": "stream",
     "text": [
      "Help on class Circle in module __main__:\n",
      "\n",
      "class Circle(builtins.object)\n",
      " |  Circle(radius)\n",
      " |  \n",
      " |  A class representing a circle shape. \n",
      " |  \n",
      " |  Attributes:\n",
      " |      radius (double): Radius of a circle\n",
      " |  \n",
      " |  Methods defined here:\n",
      " |  \n",
      " |  __init__(self, radius)\n",
      " |      Initialize a circle with a certain radius.\n",
      " |      \n",
      " |      Args:\n",
      " |          radius (double): Radius of a circle\n",
      " |  \n",
      " |  ----------------------------------------------------------------------\n",
      " |  Data descriptors defined here:\n",
      " |  \n",
      " |  __dict__\n",
      " |      dictionary for instance variables (if defined)\n",
      " |  \n",
      " |  __weakref__\n",
      " |      list of weak references to the object (if defined)\n",
      "\n"
     ]
    }
   ],
   "source": [
    "class Circle:\n",
    "    \"\"\"A class representing a circle shape. \n",
    "    \n",
    "    Attributes:\n",
    "        radius (double): Radius of a circle\n",
    "    \"\"\"\n",
    "    \n",
    "    def __init__(self, radius):\n",
    "        \"\"\"Initialize a circle with a certain radius.\n",
    "\n",
    "        Args:\n",
    "            radius (double): Radius of a circle\n",
    "        \"\"\"\n",
    "        self.radius = radius\n",
    "        \n",
    "help(Circle)"
   ]
  },
  {
   "cell_type": "markdown",
   "metadata": {},
   "source": [
    "## Jupyter Notebook\n",
    "The flow of Markdown and code cells in a Jupyter Notebook should tell a story. The following guidelines describe how best to use Jupyter Notebook to tell a story:\n",
    "* Start from general information to specific information\n",
    "* Use headings and sub-headings liberally to organize your code \n",
    "* Markdown cells should surround a code cell and describe the code and its outputs\n",
    "* Code cells should be \"short\":\n",
    "    * Put reusable utility functions in .py file(s) like utils.py\n",
    "    * Call utility functions from your code cells\n",
    "    * Note if a code cell (or more generally, a function) is so long you have to scroll to see all of it, it is solving too many tasks. Break the tasks down into subtasks with 1 subtask = 1 function\n",
    "* Plots should be rendered inline\n",
    "* Include links to references you used\n",
    "* If a math formula is relevant, type set it using Latex"
   ]
  },
  {
   "cell_type": "markdown",
   "metadata": {},
   "source": [
    "## Other Good Styling\n",
    "Insert blank space before and after commas and operators such as +, =, *, /, //"
   ]
  },
  {
   "cell_type": "markdown",
   "metadata": {},
   "source": [
    "## Using the `pylint` Linter\n",
    "From [Wikipedia](https://en.wikipedia.org/wiki/Lint_(software)):\n",
    ">\"Lint, or a linter, is a static code analysis tool used to flag programming errors, bugs, stylistic errors and suspicious constructs.[4] The term originates from a Unix utility that examined C language source code.\"\n",
    "\n",
    "From the [pylint user manual](https://pylint.pycqa.org/en/latest/index.html): \n",
    ">Pylint is a tool that checks for errors in Python code, tries to enforce a coding standard and looks for code smells. It can also look for certain type errors, it can recommend suggestions about how particular blocks can be refactored and can offer you details about the code's complexity.\n",
    "\n",
    "### `pylint` via Command Line\n",
    "You can run `pylint` from command line. Example: \n",
    "\n",
    "```\n",
    "(base) root@589aedaf4ae4:/home/pa1-gsprint23# pylint -v pa1.py\n",
    "\n",
    "--------------------------------------------------------------------\n",
    "Your code has been rated at 10.00/10 (previous run: 10.00/10, +0.00)\n",
    "```\n",
    "\n",
    "I recommend using the `-v` option to get verbose output. To run `pylint` over all the .py files in a local git repo, run `pylint -v $(git ls-files \"*.py\")`\n",
    "\n",
    "### `pylint` in VS Code\n",
    "To setup `pylint` in VS Code, open the command palette (cmd + shift + P on Mac; ctrl + shift + P on Windows) and search/run for the following commands:\n",
    "1. Python: Enable/Disable Linting (enable it)\n",
    "1. Python: Select Linter (select `pylint`)\n",
    "1. Python: Run Linting\n",
    "\n",
    "<img src=\"https://github.com/GonzagaCPSC322/PAs/raw/master/figures/vscode_linting_commands.png\" width=\"600\"/>\n",
    "\n",
    "Note: you may be prompted to install `pylint`, which you should do:\n",
    "\n",
    "<img src=\"https://github.com/GonzagaCPSC322/PAs/raw/master/figures/vscode_install_pylint.png\" width=\"400\"/>\n",
    "    \n",
    "After you run linting, open the Problems panel and fix your linting problems. For example:\n",
    "\n",
    "<img src=\"https://github.com/GonzagaCPSC322/PAs/raw/master/figures/vscode_linting_problems.png\" width=\"600\"/>\n",
    "\n",
    "When your code doesn't have any linting problems, you will see the following:\n",
    "\n",
    "<img src=\"https://github.com/GonzagaCPSC322/PAs/raw/master/figures/vscode_no_problems.png\" width=\"400\"/>"
   ]
  }
 ],
 "metadata": {
  "anaconda-cloud": {},
  "kernelspec": {
   "display_name": "Python 3 (ipykernel)",
   "language": "python",
   "name": "python3"
  },
  "language_info": {
   "codemirror_mode": {
    "name": "ipython",
    "version": 3
   },
   "file_extension": ".py",
   "mimetype": "text/x-python",
   "name": "python",
   "nbconvert_exporter": "python",
   "pygments_lexer": "ipython3",
   "version": "3.9.7"
  }
 },
 "nbformat": 4,
 "nbformat_minor": 4
}
