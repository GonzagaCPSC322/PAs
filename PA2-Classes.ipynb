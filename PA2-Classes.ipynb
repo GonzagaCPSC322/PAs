{
 "cells": [
  {
   "cell_type": "markdown",
   "metadata": {},
   "source": [
    "# [CPSC 322](https://github.com/GonzagaCPSC322) Data Science Algorithms\n",
    "[Gonzaga University](https://www.gonzaga.edu/)\n",
    "\n",
    "[Gina Sprint](http://cs.gonzaga.edu/faculty/sprint/)\n",
    "\n",
    "## PA2 Classes (75 pts)\n",
    "\n",
    "## Learner Objectives\n",
    "At the conclusion of this programming assignment, participants should be able to:\n",
    "* Model a table with a custom class\n",
    "\n",
    "## Prerequisites\n",
    "Before starting this programming assignment, participants should be able to:\n",
    "* Understand terms and concepts in Chapters 1 and 2 of Bramer\n",
    "* Run Python code and tests in Docker containers\n",
    "* Work with files, functions, and 2D lists in Python\n",
    "\n",
    "## Acknowledgments\n",
    "Content used in this assignment is based upon information in the following sources:\n",
    "* None to report"
   ]
  },
  {
   "cell_type": "markdown",
   "metadata": {},
   "source": [
    "## Github Classroom Setup\n",
    "For this assignment, you will use GitHub Classroom to create a private code repository to track code changes and submit your assignment. Open this PA2 link to accept the assignment and create a private repository for your assignment in Github classroom: https://classroom.github.com/a/XrXpt6lp\n",
    "\n",
    "Your repo, for example, will be named GonzagaCPSC322/pa2-yourusername (where yourusername is your Github username). I highly recommend committing/pushing regularly so your work is always backed up."
   ]
  },
  {
   "cell_type": "markdown",
   "metadata": {},
   "source": [
    "## Overview and Requirements\n",
    "This assignment involves implementing common table algorithms using classes and basic object oriented programming (OOP). The class we will be writing is called `MyPyTable` (in `mypytable.py`) and it represents a 2D table of data. \n",
    "\n",
    "Note: we are learning data science from scratch! This means you should not `pip install` any additional libraries beyond what is included in the [continuumio/anaconda3:2024.06-1](https://hub.docker.com/r/continuumio/anaconda3) Docker image and you should not use `pandas/numpy/scipy/`etc..."
   ]
  },
  {
   "cell_type": "markdown",
   "metadata": {},
   "source": [
    "### Step 1: Familiarize Yourself with `mypytable.py`\n",
    "Read through the provided `mypytable.py` module to understand the state and behavior of a `MyPyTable`. Read the method docstrings carefully.\n",
    "\n",
    "### Step 2: Implement and Test `MyPyTable` Methods\n",
    "For each `MyPyTable` method with a `TODO`:\n",
    "1. Implement the method according to the method's docstring\n",
    "1. \"Unofficially\" test your implementation by writing your own code to call that method with various inputs\n",
    "    * You can do this in `pa2.py`, or at the bottom of `mypytable.py` in a `if __name__ == \"__main__\":` condition\n",
    "    * Note: Because it can be difficult to understand failing unit test output, I strongly encourage you to do this step BEFORE running the provided unit tests (next step)\n",
    "1. \"Officially\" test your method for functional correctness by running the unit tests in `test_mypytable.py`\n",
    "\n",
    "Note: passing the inner and outer join tests are the most challenging parts of this assignment. Please make sure you complete the \"Join Practice Problem\" on the Join Lab handed out in class and you understand the tracing both algorithms on all examples before starting the joins.\n",
    "\n",
    "### Step 3: Write Code in `pa2.py` to Excercise `MyPyTable`\n",
    "Choose 2 small tables (that can be joined) to exercise the `MyPyTable` class with. You can use tables from the Join Lab, or make up your own. These tables can be hard-coded in `pa2.py` or loaded from files. At a minimum, you should write code to create a few `MyPyTable` objects to represent the table data, call `MyPyTable` methods (including the joins!), and display/confirm the results."
   ]
  },
  {
   "cell_type": "markdown",
   "metadata": {},
   "source": [
    "### Bonus (4 pts)\n",
    "* (2 pts) Run the `pylint` linter over your PA2 code and make sure it receives a 10/10 rating\n",
    "    * See PA1 bonus for more information on how to do this.\n",
    "* (2 pts) Make sure your `pa2.py` loads your two small tables from input files. Then, update `pa2.py` so the names of the two input files are to be passed in to your program via [command line arguments](https://docs.python.org/3/tutorial/stdlib.html#command-line-arguments).\n",
    "    * Here is an example run of `pa2.py` when it uses command line arguments: `python pa2.py auto-mpg.txt auto-prices.txt`\n",
    "    * Note: If incorrect command line arguments are given (e.g. missing one of them), print a string showing usage instructions. This helps the user know how to run your program!!"
   ]
  },
  {
   "cell_type": "markdown",
   "metadata": {},
   "source": [
    "## Submitting Assignments\n",
    "1. Turn in your assignment files via a Github Classroom repo. See the \"Github Classroom Setup\" section at the beginning of this document for details on how to do this.\n",
    "    1. Your repo should contain all of the files needed to run and test your solution (e.g. .py file(s), input files, etc.). \n",
    "    1. Double-check that this is the case by \"pretending to be the grader\": clone (or download a zip) your submission repo and run your code in a fresh [continuumio/anaconda3:2024.06-1](https://hub.docker.com/r/continuumio/anaconda3) Docker container like we will when we grade your code.\n",
    "1. Submit this PA’s associated assignment in Canvas to mark your PA as \"done\" and ready for grading. We will then pull your Github repo and grade your PA as soon as possible. The date and time you submit the PA assignment in Canvas will be used for marking your assignment as \"late\" or \"on-time.\""
   ]
  },
  {
   "cell_type": "markdown",
   "metadata": {},
   "source": [
    "## Grading Guidelines\n",
    "This assignment is worth 75 points + 4 points bonus. Your assignment will be evaluated based on a successful execution in the [continuumio/anaconda3:2024.06-1](https://hub.docker.com/r/continuumio/anaconda3) Docker container and adherence to the program requirements. We will grade according to the following criteria:\n",
    "* 65 pts for passing all `MyPyTable` unit tests\n",
    "    * 3 pts for `test_get_shape`\n",
    "    * 3 pts for `test_get_column`\n",
    "    * 3 pts for `test_convert_to_numeric`\n",
    "    * 3 pts for `test_drop_rows`\n",
    "    * 3 pts for `test_load_from_file`\n",
    "    * 5 pts for `test_save_to_file`\n",
    "    * 5 pts for `test_find_duplicates`\n",
    "    * 5 pts for `test_remove_rows_with_missing_values`\n",
    "    * 5 pts for `test_replace_missing_values_with_column_average`\n",
    "    * 8 pts for `test_compute_summary_statistics`\n",
    "    * 10 pts for `test_perform_inner_join`\n",
    "    * 12 pts for `test_perform_full_outer_join`\n",
    "* 5 pts for `MyPyTable` exercise code in `pa2.py`\n",
    "* 5 pts for adherence to course [coding standard](https://nbviewer.jupyter.org/github/GonzagaCPSC322/PAs/blob/master/Coding%20Standard.ipynb)."
   ]
  }
 ],
 "metadata": {
  "anaconda-cloud": {},
  "kernelspec": {
   "display_name": "Python 3 (ipykernel)",
   "language": "python",
   "name": "python3"
  },
  "language_info": {
   "codemirror_mode": {
    "name": "ipython",
    "version": 3
   },
   "file_extension": ".py",
   "mimetype": "text/x-python",
   "name": "python",
   "nbconvert_exporter": "python",
   "pygments_lexer": "ipython3",
   "version": "3.9.7"
  }
 },
 "nbformat": 4,
 "nbformat_minor": 4
}
